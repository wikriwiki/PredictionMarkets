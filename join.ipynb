{
 "cells": [
  {
   "cell_type": "code",
   "execution_count": 4,
   "metadata": {},
   "outputs": [
    {
     "name": "stdout",
     "output_type": "stream",
     "text": [
      "저장되었습니다.\n"
     ]
    }
   ],
   "source": [
    "import pandas as pd\n",
    "\n",
    "# 1. 데이터 로드\n",
    "matching_df = pd.read_csv('matching_questions_cnn_953.csv')\n",
    "prices_df = pd.read_csv('question_prices_with_changes_cnn.csv')\n",
    "\n",
    "# 2. 필요한 열 선택\n",
    "prices_subset = prices_df[['yes_price', 'change_1d', 'change_3d', 'change_5d']]\n",
    "\n",
    "# 3. 열 옆으로 붙이기\n",
    "# axis=1을 사용해 수평으로 결합\n",
    "combined_df = pd.concat([matching_df, prices_subset], axis=1)\n",
    "\n",
    "# 4. 결과를 새로운 CSV로 저장\n",
    "combined_df.to_csv('cnn_with_labels.csv', index=False)\n",
    "print(\"저장되었습니다.\")"
   ]
  },
  {
   "cell_type": "code",
   "execution_count": 15,
   "metadata": {},
   "outputs": [],
   "source": [
    "import pandas as pd\n",
    "\n",
    "# Load the main data\n",
    "combined_df = pd.read_csv(\"combined_labeled_data.csv\")\n",
    "\n",
    "# Drop the specified columns from combined_labeled_data.csv\n",
    "columns_to_drop = ['change_1d', 'change_3d', 'change_5d', 'text']\n",
    "combined_df = combined_df.drop(columns=columns_to_drop, errors='ignore')\n",
    "\n",
    "# Load the question descriptions\n",
    "closed_questions_df = pd.read_csv(\"closed_questions_description.csv\")\n",
    "\n",
    "# Merge the two DataFrames on 'matching_questions' and 'question'\n",
    "merged_df = pd.merge(combined_df, closed_questions_df, left_on='matching_questions', right_on='question', how='inner')\n",
    "\n",
    "# Drop 'question', 'description', 'end_date' columns after merge\n",
    "columns_to_drop_after_merge = ['question', 'description']\n",
    "merged_df = merged_df.drop(columns=columns_to_drop_after_merge, errors='ignore')\n",
    "\n",
    "# Save the result to a new CSV (optional)\n",
    "merged_df.to_csv(\"merged_result.csv\", index=False)\n"
   ]
  },
  {
   "cell_type": "code",
   "execution_count": 16,
   "metadata": {},
   "outputs": [
    {
     "name": "stdout",
     "output_type": "stream",
     "text": [
      "날짜 형식을 유지하며 5일 이하 데이터는 제거되었습니다.\n"
     ]
    }
   ],
   "source": [
    "import pandas as pd\n",
    "from datetime import datetime\n",
    "\n",
    "# CSV 불러오기\n",
    "df = pd.read_csv(\"merged_result.csv\")\n",
    "\n",
    "# 날짜 차이 계산 함수 (문자열 그대로 두고 계산만)\n",
    "def date_diff_more_than_5(upload_str, end_str):\n",
    "    try:\n",
    "        upload_dt = datetime.strptime(upload_str, \"%Y-%m-%dT%H:%M:%SZ\")\n",
    "        end_dt = datetime.strptime(end_str, \"%Y-%m-%dT%H:%M:%SZ\")\n",
    "        return (end_dt - upload_dt).days > 5\n",
    "    except:\n",
    "        return False  # 파싱 오류가 있으면 삭제 대상\n",
    "\n",
    "# 필터링 적용 (5일 초과만 남김)\n",
    "df = df[df.apply(lambda row: date_diff_more_than_5(row[\"upload_date\"], row[\"end_date\"]), axis=1)]\n",
    "\n",
    "# 저장 (형식 유지됨)\n",
    "df.to_csv(\"merged_result.csv\", index=False)\n",
    "print(\"날짜 형식을 유지하며 5일 이하 데이터는 제거되었습니다.\")\n",
    "\n"
   ]
  },
  {
   "cell_type": "code",
   "execution_count": 1,
   "metadata": {},
   "outputs": [
    {
     "name": "stdout",
     "output_type": "stream",
     "text": [
      "병합된 데이터프레임의 첫 몇 행:\n",
      "                                               title  \\\n",
      "0  Gutfeld: We're seeing the 'downfall of the ina...   \n",
      "1  Gutfeld: We're seeing the 'downfall of the ina...   \n",
      "2  Trump takes lead on VP Harris, top pollster re...   \n",
      "3  'She never knew?': Harris under fire for claim...   \n",
      "4    Jesse Watters: Kamala just does what she's told   \n",
      "\n",
      "                                           url                upload_date  \\\n",
      "0  https://www.youtube.com/watch?v=6DmwFanCzfs  2024-10-24 22:27:37+00:00   \n",
      "1  https://www.youtube.com/watch?v=6DmwFanCzfs  2024-10-24 22:27:37+00:00   \n",
      "2  https://www.youtube.com/watch?v=Jt8UgIdBU4s  2024-10-24 15:30:09+00:00   \n",
      "3  https://www.youtube.com/watch?v=AZg9NMY4UnU  2024-10-24 07:30:06+00:00   \n",
      "4  https://www.youtube.com/watch?v=6ZkuOWvx9Pw  2024-10-24 01:13:43+00:00   \n",
      "\n",
      "                                  matching_questions  similarity  \\\n",
      "0                     Kamala Harris blowout victory?    0.647121   \n",
      "1              Kamala Harris fires campaign manager?    0.631682   \n",
      "2               Will Trump win Florida by 8+ points?    0.613869   \n",
      "3          Will Trump drop out of presidential race?    0.641697   \n",
      "4  Will Kamala Harris win the 2024 US Presidentia...    0.648375   \n",
      "\n",
      "                                                text  \n",
      "0   Well, everybody, I'm Jesse Waters along with ...  \n",
      "1   Well, everybody, I'm Jesse Waters along with ...  \n",
      "2   And look, let us in real talk. It's going to ...  \n",
      "3   All right, well, 94 days ago, Joe Biden dropp...  \n",
      "4   The clock is ticking on Kamala Harris, less t...  \n",
      "총 행 수: 1078\n",
      "병합된 파일이 'combined_labeled_data.csv'로 저장되었습니다.\n"
     ]
    }
   ],
   "source": [
    "import pandas as pd\n",
    "\n",
    "# 1. 두 CSV 파일 로드\n",
    "df_fox = pd.read_csv(\"matching_questions_politics_economy_fox.csv\")\n",
    "df_general = pd.read_csv(\"matching_questions_politics_economy.csv\")\n",
    "\n",
    "# 2. 두 데이터프레임 병합\n",
    "df_combined = pd.concat([df_fox, df_general], ignore_index=True)\n",
    "\n",
    "# 3. 결과 확인 (선택적)\n",
    "print(\"병합된 데이터프레임의 첫 몇 행:\")\n",
    "print(df_combined.head())\n",
    "print(f\"총 행 수: {len(df_combined)}\")\n",
    "\n",
    "# 4. 병합된 데이터를 새로운 CSV 파일로 저장\n",
    "df_combined.to_csv(\"combined_labeled_data.csv\", index=False)\n",
    "print(\"병합된 파일이 'combined_labeled_data.csv'로 저장되었습니다.\")"
   ]
  }
 ],
 "metadata": {
  "kernelspec": {
   "display_name": "keybert_env",
   "language": "python",
   "name": "python3"
  },
  "language_info": {
   "codemirror_mode": {
    "name": "ipython",
    "version": 3
   },
   "file_extension": ".py",
   "mimetype": "text/x-python",
   "name": "python",
   "nbconvert_exporter": "python",
   "pygments_lexer": "ipython3",
   "version": "3.9.21"
  }
 },
 "nbformat": 4,
 "nbformat_minor": 2
}
